{
 "cells": [
  {
   "cell_type": "code",
   "execution_count": 1,
   "metadata": {},
   "outputs": [
    {
     "name": "stdout",
     "output_type": "stream",
     "text": [
      "Hello world\n"
     ]
    }
   ],
   "source": [
    "print(\"Hello world\")"
   ]
  },
  {
   "cell_type": "code",
   "execution_count": 8,
   "metadata": {},
   "outputs": [
    {
     "data": {
      "text/html": [
       "<div>\n",
       "<style scoped>\n",
       "    .dataframe tbody tr th:only-of-type {\n",
       "        vertical-align: middle;\n",
       "    }\n",
       "\n",
       "    .dataframe tbody tr th {\n",
       "        vertical-align: top;\n",
       "    }\n",
       "\n",
       "    .dataframe thead th {\n",
       "        text-align: right;\n",
       "    }\n",
       "</style>\n",
       "<table border=\"1\" class=\"dataframe\">\n",
       "  <thead>\n",
       "    <tr style=\"text-align: right;\">\n",
       "      <th></th>\n",
       "      <th>48</th>\n",
       "      <th>49</th>\n",
       "      <th>50</th>\n",
       "    </tr>\n",
       "  </thead>\n",
       "  <tbody>\n",
       "    <tr>\n",
       "      <th>2</th>\n",
       "      <td>1</td>\n",
       "      <td>2</td>\n",
       "      <td>3</td>\n",
       "    </tr>\n",
       "    <tr>\n",
       "      <th>A</th>\n",
       "      <td>4</td>\n",
       "      <td>5</td>\n",
       "      <td>6</td>\n",
       "    </tr>\n",
       "    <tr>\n",
       "      <th>4</th>\n",
       "      <td>7</td>\n",
       "      <td>8</td>\n",
       "      <td>9</td>\n",
       "    </tr>\n",
       "  </tbody>\n",
       "</table>\n",
       "</div>"
      ],
      "text/plain": [
       "   48  49  50\n",
       "2   1   2   3\n",
       "A   4   5   6\n",
       "4   7   8   9"
      ]
     },
     "metadata": {},
     "output_type": "display_data"
    },
    {
     "name": "stdout",
     "output_type": "stream",
     "text": [
      "48    4\n",
      "49    5\n",
      "50    6\n",
      "Name: A, dtype: int32\n",
      "48    7\n",
      "49    8\n",
      "50    9\n",
      "Name: 4, dtype: int32\n"
     ]
    }
   ],
   "source": [
    "from IPython.display import display\n",
    "import pandas as pd\n",
    "import numpy as np\n",
    "df = pd.DataFrame(data=np.array([[1, 2, 3], [4, 5, 6], [7, 8, 9]]), index= [2, 'A', 4], columns=[48, 49, 50])\n",
    "\n",
    "display(df)\n",
    "# Pass `2` to `loc`\n",
    "print(df.loc[\"A\"])\n",
    "\n",
    "# Pass `2` to `iloc`\n",
    "print(df.iloc[2])\n"
   ]
  },
  {
   "cell_type": "code",
   "execution_count": 13,
   "metadata": {},
   "outputs": [
    {
     "data": {
      "text/html": [
       "<div>\n",
       "<style scoped>\n",
       "    .dataframe tbody tr th:only-of-type {\n",
       "        vertical-align: middle;\n",
       "    }\n",
       "\n",
       "    .dataframe tbody tr th {\n",
       "        vertical-align: top;\n",
       "    }\n",
       "\n",
       "    .dataframe thead th {\n",
       "        text-align: right;\n",
       "    }\n",
       "</style>\n",
       "<table border=\"1\" class=\"dataframe\">\n",
       "  <thead>\n",
       "    <tr style=\"text-align: right;\">\n",
       "      <th></th>\n",
       "      <th>0</th>\n",
       "    </tr>\n",
       "  </thead>\n",
       "  <tbody>\n",
       "    <tr>\n",
       "      <th>United Kingdom</th>\n",
       "      <td>data2London</td>\n",
       "    </tr>\n",
       "    <tr>\n",
       "      <th>India</th>\n",
       "      <td>data2New Delhi</td>\n",
       "    </tr>\n",
       "    <tr>\n",
       "      <th>United States</th>\n",
       "      <td>data2Washington</td>\n",
       "    </tr>\n",
       "    <tr>\n",
       "      <th>Belgium</th>\n",
       "      <td>data2Brussels</td>\n",
       "    </tr>\n",
       "  </tbody>\n",
       "</table>\n",
       "</div>"
      ],
      "text/plain": [
       "                              0\n",
       "United Kingdom      data2London\n",
       "India            data2New Delhi\n",
       "United States   data2Washington\n",
       "Belgium           data2Brussels"
      ]
     },
     "metadata": {},
     "output_type": "display_data"
    }
   ],
   "source": [
    "data = {\"United Kingdom\":\"London\", \"India\":\"New Delhi\", \"United States\":\"Washington\", \"Belgium\":\"Brussels\"}\n",
    "data2 =pd.Series({\"United Kingdom\":\"London\", \"India\":\"New Delhi\", \"United States\":\"Washington\", \"Belgium\":\"Brussels\"})\n",
    "# must index !\n",
    "display(\"data2\" + pd.DataFrame(data2))\n"
   ]
  },
  {
   "cell_type": "code",
   "execution_count": 21,
   "metadata": {},
   "outputs": [
    {
     "name": "stdout",
     "output_type": "stream",
     "text": [
      "Enter the gross income : 150000\n",
      "Enter the number of dependents : 3\n",
      "your income tax : 26200.0\n"
     ]
    }
   ],
   "source": [
    "\n",
    "# 수입에 따른 세금을 계산하는 프로그램\n",
    "# 세율은 20% , 기본공제 10000, 추가공제 3000\n",
    "\n",
    "print(\"Enter the gross income : \", end=\"\")\n",
    "income = int(input())\n",
    "print(income)\n",
    "print(\"Enter the number of dependents : \", end=\"\")\n",
    "dependents = int(input())\n",
    "print(dependents)\n",
    "\n",
    "taxrate = 0.2\n",
    "standarddeduction = 10000\n",
    "adddeduct = 3000\n",
    "answer = (income - standarddeduction - (adddeduct * dependents)) * taxrate\n",
    "print(\"your income tax :\", answer)\n",
    "\n",
    "\n"
   ]
  },
  {
   "cell_type": "code",
   "execution_count": 23,
   "metadata": {},
   "outputs": [
    {
     "data": {
      "text/plain": [
       "<__main__.calc_tax at 0x2aa89a0cc70>"
      ]
     },
     "execution_count": 23,
     "metadata": {},
     "output_type": "execute_result"
    }
   ],
   "source": [
    "class calc_tax():\n",
    "    income = 0\n",
    "    dependents = 0\n",
    "    def __init__(self, income, dependents):\n",
    "        self.income = income\n",
    "        self.dependents = dependents\n",
    "        \n",
    "    def calc():\n",
    "        print(income)\n",
    "        print(dependents)\n",
    "        \n",
    "calc_tax(150000, 3)\n",
    "        "
   ]
  },
  {
   "cell_type": "code",
   "execution_count": 26,
   "metadata": {},
   "outputs": [
    {
     "data": {
      "text/html": [
       "<div>\n",
       "<style scoped>\n",
       "    .dataframe tbody tr th:only-of-type {\n",
       "        vertical-align: middle;\n",
       "    }\n",
       "\n",
       "    .dataframe tbody tr th {\n",
       "        vertical-align: top;\n",
       "    }\n",
       "\n",
       "    .dataframe thead th {\n",
       "        text-align: right;\n",
       "    }\n",
       "</style>\n",
       "<table border=\"1\" class=\"dataframe\">\n",
       "  <thead>\n",
       "    <tr style=\"text-align: right;\">\n",
       "      <th></th>\n",
       "      <th>open</th>\n",
       "      <th>close</th>\n",
       "      <th>volume</th>\n",
       "    </tr>\n",
       "  </thead>\n",
       "  <tbody>\n",
       "    <tr>\n",
       "      <th>1-1</th>\n",
       "      <td>1</td>\n",
       "      <td>2</td>\n",
       "      <td>3</td>\n",
       "    </tr>\n",
       "    <tr>\n",
       "      <th>1-2</th>\n",
       "      <td>2</td>\n",
       "      <td>3</td>\n",
       "      <td>4</td>\n",
       "    </tr>\n",
       "    <tr>\n",
       "      <th>1-3</th>\n",
       "      <td>3</td>\n",
       "      <td>4</td>\n",
       "      <td>5</td>\n",
       "    </tr>\n",
       "  </tbody>\n",
       "</table>\n",
       "</div>"
      ],
      "text/plain": [
       "     open  close  volume\n",
       "1-1     1      2       3\n",
       "1-2     2      3       4\n",
       "1-3     3      4       5"
      ]
     },
     "execution_count": 26,
     "metadata": {},
     "output_type": "execute_result"
    }
   ],
   "source": [
    "import pandas as pd\n",
    "import numpy as np\n",
    "# Series 만들기 - index 포함해서 배열을 만들어 준다. - 1차원의 레이블이 있는 배열\n",
    "data = pd.Series([1,2,3,4], index=['1-1','1-2','1-3','1-4'])\n",
    "pd.DataFrame(data)\n",
    "\n",
    "# 2d 리스트를 넣어서 데이터프레임을 만든 경우\n",
    "pd.DataFrame([[1,2,3],\n",
    "             [3,4,5],\n",
    "             [6,7,8]], columns = ['open','close','volumn'])\n",
    "\n",
    "# 딕셔너리 key = 열, value = 행\n",
    "pd.DataFrame({\"open\" : [1,2,3],\n",
    "             \"close\" : [2,3,4],\n",
    "             \"volume\" : [3,4,5],\n",
    "             }, index=['1-1','1-2','1-3'])"
   ]
  },
  {
   "cell_type": "code",
   "execution_count": null,
   "metadata": {},
   "outputs": [],
   "source": [
    "# 재정리\n",
    "# 수입에 따른 세금을 계산하는 프로그램\n",
    "# 세율은 20% , 기본공제 10000, 추가공제 3000\n",
    "print(\"수입에 따른 세금을 계산하는 프로그램\")\n",
    "# print(\"Enter the gross income : \", end=\"\")\n",
    "income = int(input(\"Enter the gross income : $\"))\n",
    "# print(income)\n",
    "# print(\"Enter the number of dependents : \", end=\"\")\n",
    "dependents = int(input(\"Enter the number of dependents : \"))\n",
    "# print(dependents)\n",
    "\n",
    "taxrate = 0.2\n",
    "standarddeduction = 10000\n",
    "adddeduct = 3000\n",
    "answer = (income - (standarddeduction + adddeduct * dependents)) * taxrate\n",
    "print(f\"your income tax : ${answer:.2f}\")\n",
    "\n"
   ]
  },
  {
   "cell_type": "code",
   "execution_count": null,
   "metadata": {},
   "outputs": [],
   "source": [
    "# 읽기 header = 제목 , nrows = 일부 읽기, tap키로 나뉘었을 때 = '\\t', ','로 나뉜건 그냥 csv파일 defalut, ';'로 나뉜건 ';' 로 하면됨\n",
    "pd.read_csv(\"file.csv\", header = None, nrows = 5, delimiter = '\\t')\n",
    "pd.read_excel(\"file.xlsx\")"
   ]
  },
  {
   "cell_type": "code",
   "execution_count": null,
   "metadata": {},
   "outputs": [],
   "source": [
    "# 쓰기\n",
    "df.to_csv(\"myDataFrame.csv\")\n",
    "df.to_excel('dir/myDataFrame.xlsx', sheet_name = 'Sheet1')"
   ]
  },
  {
   "cell_type": "code",
   "execution_count": null,
   "metadata": {},
   "outputs": [],
   "source": [
    "# 상위 5개 (default), 개수, 하위 5개 (default)\n",
    "df.head()\n",
    "df.head(2)\n",
    "df.tail()\n",
    "df.shape #속성\n",
    "df.index #인덱스들\n",
    "df.columns #컬럼들\n",
    "df.dtypes\n",
    "df.ndim # 디멘션\n",
    "df.size\n",
    "df.values\n",
    "df.info()\n",
    "df.count() #null 제외\n",
    "df.astype() # 형변환\n",
    "df.통계들 ..."
   ]
  },
  {
   "cell_type": "code",
   "execution_count": null,
   "metadata": {},
   "outputs": [],
   "source": [
    "# 연습\n",
    "df = pd.read_csv(\"https://raw.githubusercontent.com/nsethi31/Kaggle-Data-Credit-Card-Fraud-Detection/master/creditcard.csv\")\n",
    "df"
   ]
  },
  {
   "cell_type": "code",
   "execution_count": null,
   "metadata": {},
   "outputs": [],
   "source": [
    "# 처음 다섯줄, 마지막 세줄 (head(), tail(3))\n",
    "df.head(5)\n",
    "df.tail(3)\n",
    "# 데이터타입, 인덱스, 칼럼들, 값들 (dtypes, index, columns, values)\n",
    "df.dtypes\n",
    "df.index\n",
    "df.columns\n",
    "df.values\n",
    "# 컬럼에 대한 통계 요약\n",
    "df.describe()\n",
    "# 데이터 정보\n",
    "df.info()\n",
    "# 금액에 따라 내림차순\n",
    "df.sort_values(by=\"Amount\", ascending=False)\n",
    "# 칼럼 조회\n",
    "df[\"V1\"]\n",
    "df.V1\n",
    "# 행과 열\n",
    "df.iloc[0]\n",
    "df.iloc[-1]\n",
    "df.iloc[:, 0]\n",
    "df.loc[10:20, ['V1','V3']]\n",
    "# 레코드를 짤라서 다음의 열과 행을 출력하라 loc : 숫자는 마지막것도 포함한다. 보통 String\n",
    "# Rows 1 to 2\n",
    "df[:2]\n",
    "# Class and Amount\n",
    "df[['Class',\"Amount\"]]\n",
    "# 9 row of Amount column\n",
    "df.loc[8, 'Amount']\n",
    "# 4 to 5 rows of 1 and 4 columns\n",
    "df.iloc[3:5, [0,3]]\n",
    "df.loc[1:3] # iloc과의 차이점은 끝값을 포함하냐 안하냐 인덱스 1 to 3 모두 포함\n",
    "df[df['Amount'] > 12]\n",
    "df[df[\"V1\"] == \"V2\"]\n",
    "df[df[\"V1\"].isin([0,1])]\n",
    "# 데이터를 검색하여 다음의 열과 행을 출력\n",
    "# Amount 가 100이상인 사람\n",
    "df[df[\"Amount\"] > 100]\n",
    "# Time is in either 2, 4, or 7\n",
    "df[df[\"Time\"].isin([2,4,7])]\n",
    "#복사\n",
    "df1 = df.copy()"
   ]
  },
  {
   "cell_type": "code",
   "execution_count": null,
   "metadata": {},
   "outputs": [],
   "source": [
    "# 새로운 값으로 대체\n",
    "# 10.68 for Amount column at index 9\n",
    "# Np null values for Amount column at index 9 (np.nan).\n",
    "# 0.5 for all rows in V1 column. V1 컬럼 전체를 5로 바꾸기\n",
    "df1 = df.copy()\n",
    "df1.loc[9,[\"Amount\"]] = 10.68\n",
    "df1.loc[9,[\"Amount\"]] = np.nan\n",
    "df1[\"V1\"] = 0.5\n",
    "# Add new column named avg_V23 that is the average of V2 and V3.\n",
    "# df.avg_V23 = df.loc[:,[\"V2\",\"V3\"]].mean()\n",
    "df1[\"avg_V23\"] = (df1.V2 + df1.V3) / 2\n",
    "df1[\"avg_V23\"]\n",
    "\n",
    "# 칼럼이름 바꾸기. inplace = 할당안해도 자동저장\n",
    "df1.rename(columns = {\"Time\":\"time\",\n",
    "                     \"Amount\":\"amount\",\n",
    "                     \"Class\":\"class\"},\n",
    "          inplace=True)\n",
    "df1.columns\n",
    "\n",
    "# 파일 저장\n",
    "# df_result = df1.head(5)\n",
    "# df_result.to_csv(\"hiFinEdu.csv\")\n",
    "\n",
    "# iterrows\n",
    "# for index, row in df.iterrows():\n",
    "#     print(index, row[\"Amount\"])\n",
    "    "
   ]
  },
  {
   "cell_type": "code",
   "execution_count": null,
   "metadata": {},
   "outputs": [],
   "source": []
  }
 ],
 "metadata": {
  "kernelspec": {
   "display_name": "Python 3",
   "language": "python",
   "name": "python3"
  },
  "language_info": {
   "codemirror_mode": {
    "name": "ipython",
    "version": 3
   },
   "file_extension": ".py",
   "mimetype": "text/x-python",
   "name": "python",
   "nbconvert_exporter": "python",
   "pygments_lexer": "ipython3",
   "version": "3.9.5"
  },
  "orig_nbformat": 4
 },
 "nbformat": 4,
 "nbformat_minor": 2
}
