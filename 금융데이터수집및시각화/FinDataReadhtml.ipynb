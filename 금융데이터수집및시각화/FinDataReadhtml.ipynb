{
 "cells": [
  {
   "cell_type": "code",
   "execution_count": null,
   "metadata": {},
   "outputs": [],
   "source": [
    "# 다음 주소에서 2차전지 테마주 관련 종목과 테마 편입사유를 가져오시오\n",
    "df_html = pd.read_html('http://m.infostock.co.kr/sector/sector_detail.asp?code=64&theme=2%uCC28%uC804%uC9C0&mode=w')\n",
    "\n",
    "df_html = df_html[1][3:]\n",
    "df_html.columns = df_html.iloc[0]\n",
    "df_html = df_html[1:]\n",
    "df_html.reset_index(drop=True)"
   ]
  },
  {
   "cell_type": "code",
   "execution_count": null,
   "metadata": {},
   "outputs": [],
   "source": [
    "#다음 주소에서 삼성전자의 종목코드를 찾아 내시오\n",
    "df_html2 = pd.read_html(\"http://kind.krx.co.kr/corpgeneral/corpList.do?method=download\")\n",
    "len(df_html2)\n"
   ]
  },
  {
   "cell_type": "code",
   "execution_count": null,
   "metadata": {},
   "outputs": [],
   "source": [
    "df_stock = df_html2[0]\n",
    "df_stock.head()\n",
    "result = df_stock[df_stock[\"회사명\"] == \"삼성전자\"][\"종목코드\"]\n",
    "print(f\"{result.values[0]:06d}\")\n",
    "# df_stock[\"종목코드\"][df_stock[\"회사명\"] == \"삼성전자\"]\n",
    "df_stock.loc[(df_stock[\"회사명\"] == \"삼성전자\") , [\"종목코드\"]]"
   ]
  },
  {
   "cell_type": "code",
   "execution_count": null,
   "metadata": {},
   "outputs": [],
   "source": [
    "df_stock[df_stock[\"회사명\"].apply(lambda x : x[0:2]) == \"삼성\"].head()"
   ]
  },
  {
   "cell_type": "code",
   "execution_count": null,
   "metadata": {},
   "outputs": [],
   "source": [
    "import matplotlib.pyplot as plt\n",
    "plt.plot([1,2,3],[5,5,7])\n",
    "plt.show()"
   ]
  },
  {
   "cell_type": "code",
   "execution_count": null,
   "metadata": {},
   "outputs": [],
   "source": [
    "# 라인차트 - 숫자(계량)\n",
    "# plt.plot(x, y) = x, y는 위치 고정\n",
    "\n",
    "x = [1, 2, 3]\n",
    "y = [5, 5, 8]\n",
    "x2 = [1, 2, 3]\n",
    "y2 = [10, 15, 6]\n",
    "plt.plot(x,y, label='first line')\n",
    "plt.plot(x2, y2, label='second line')\n",
    "plt.xlabel('x') #x축 레이블\n",
    "plt.ylabel('y') #y축 레이블\n",
    "plt.title('Line Chart') #타이틀\n",
    "plt.legend() #범례\n",
    "plt.show()"
   ]
  },
  {
   "cell_type": "code",
   "execution_count": null,
   "metadata": {},
   "outputs": [],
   "source": [
    "#산점도 - 숫자(계량형)\n",
    "#plt.scatter(x, y, color=, marker=, s=) s는 사이즈\n",
    "x = [1, 2, 3, 4, 5, 6, 7 ,8]\n",
    "y = [3, 5, 6, 8, 3, 8, 9, 3]\n",
    "plt.scatter(x,y, color='k', marker='x', s=10)\n",
    "plt.xlabel('x')\n",
    "plt.ylabel('y')\n",
    "plt.title('Scatter Plot\\n Example')\n",
    "plt.show()"
   ]
  },
  {
   "cell_type": "code",
   "execution_count": null,
   "metadata": {},
   "outputs": [],
   "source": [
    "# 히스토그램 - 숫자(계량형) 한개 연속변수의 분포를 보여줌\n",
    "# plt.hist(숫자리스트, 범주리스트)\n",
    "population_ages = [22, 55, 62, 45, 21, 22, 34, 42, \n",
    "42, 4, 99, 102, 110, 120, 121, 122, 130, 111, 115, \n",
    "112, 80,75, 65, 54, 44, 43, 42, 48]\n",
    "bins = [0, 10, 20, 30, 40 , 50, 60, 70, 80, 90, 100, \n",
    "110, 120, 130]\n",
    "plt.hist(population_ages, bins, histtype='bar', rwidth=.8)\n",
    "plt.xlabel('x')\n",
    "plt.ylabel('y')\n",
    "plt.title('Histogram')\n",
    "plt.show()"
   ]
  },
  {
   "cell_type": "code",
   "execution_count": null,
   "metadata": {},
   "outputs": [],
   "source": [
    "# 막대 - 글자(범주)\n",
    "#plt.bar(x, y)\n",
    "x = [1, 2, 3, 4, 5]\n",
    "y = [6 ,7, 8, 2, 4]\n",
    "plt.bar(x,y, color='r')\n",
    "plt.xlabel('x')\n",
    "plt.ylabel('y')\n",
    "plt.title('Bar Chart')\n",
    "plt.show()"
   ]
  },
  {
   "cell_type": "code",
   "execution_count": null,
   "metadata": {},
   "outputs": [],
   "source": [
    "# 수평막대 - 글자(범주)\n",
    "# plt.barh\n",
    "x = [1, 2, 3, 4, 5]\n",
    "y = [6 ,7, 8, 2, 4]\n",
    "plt.barh(x,y)\n",
    "plt.xlabel('x')\n",
    "plt.ylabel('y')\n",
    "plt.title('Bar Chart')\n",
    "plt.show()"
   ]
  },
  {
   "cell_type": "code",
   "execution_count": null,
   "metadata": {},
   "outputs": [],
   "source": [
    "# 그룹 막대 - 글자(범주)\n",
    "# plt.bar(x가, y개)\n",
    "\n",
    "x = [2, 4, 6, 8, 10]\n",
    "y = [6 ,7, 8, 2, 4]\n",
    "x2 = [1, 3, 5, 7, 9]\n",
    "y2 = [7, 8, 2, 4, 2]\n",
    "plt.bar(x, y, label='bars1', \n",
    "color='r')\n",
    "plt.bar(x2, y2, label='bars2', \n",
    "color='c')\n",
    "plt.xlabel('x')\n",
    "plt.ylabel('y')\n",
    "plt.title('Two Bar Charts')\n",
    "plt.legend()\n",
    "plt.show()"
   ]
  },
  {
   "cell_type": "code",
   "execution_count": null,
   "metadata": {},
   "outputs": [],
   "source": [
    "# 누적그래프 - 글자(범주)\n",
    "# plt.bar(x가, y개, bottom = y개)\n",
    "x = [1, 2, 3, 4, 5]\n",
    "y1 = [6 ,7, 8, 2, 4]\n",
    "y2 = [7, 8, 2, 4, 2]\n",
    "plt.bar(x, y1, label='bars1', color='r')\n",
    "plt.bar(x, y2, label='bars2', color='c', \n",
    "bottom=y1)\n",
    "plt.xlabel('x')\n",
    "plt.ylabel('y')\n",
    "plt.title('Stacked Bar Chart')\n",
    "plt.legend()\n",
    "plt.show()"
   ]
  },
  {
   "cell_type": "code",
   "execution_count": null,
   "metadata": {},
   "outputs": [],
   "source": [
    "# 박스그래프 - 열별 IQR\n",
    "data = [[2, 4, 6, 8, 10],[6 ,7, 8, 2, 4],[1, 3, 5, 7, 9],[7, 8, 2, 4, 2]]\n",
    "x = pd.DataFrame(data)\n",
    "plt.boxplot(x)\n",
    "plt.xlabel('x')\n",
    "plt.ylabel('y')\n",
    "plt.title('Box Plot')\n",
    "plt.show()"
   ]
  },
  {
   "cell_type": "code",
   "execution_count": null,
   "metadata": {},
   "outputs": [],
   "source": [
    "!pip install finance-datareader "
   ]
  },
  {
   "cell_type": "code",
   "execution_count": null,
   "metadata": {},
   "outputs": [],
   "source": [
    "# • 아마존, 구글, 애플의 주가를 가져와서 시각화 하시오\n",
    "# • 2023년 1월1일부터 6월1일까지 주가를 이용\n",
    "# • 종가와 시가를 이용해서 변동율을 계산 (종가-시가)/시가\n",
    "# • 변동율의 평균, 표준편차를 계산하여 변동율의 히스토그램과 같이 출력\n",
    "# • 세 개 회사의 변동율을 박스플랏으로 출력\n",
    "\n",
    "\n",
    "import FinanceDataReader as fdr\n",
    "amzn = fdr.DataReader('AMZN', '2023-01-01',\"2023-06-01\")\n",
    "df_amzn = amzn.copy()\n",
    "df_amzn.head()"
   ]
  },
  {
   "cell_type": "code",
   "execution_count": null,
   "metadata": {},
   "outputs": [],
   "source": [
    "df_amzn[\"변동률\"] = (df_amzn[\"Close\"] - df_amzn[\"Open\"] / df_amzn[\"Open\"]) * 100\n",
    "df_amzn.head()"
   ]
  },
  {
   "cell_type": "code",
   "execution_count": null,
   "metadata": {},
   "outputs": [],
   "source": [
    "amzn_avg = np.round(df_amzn[\"변동률\"].mean(), 2)\n",
    "amzn_std = np.round(df_amzn[\"변동률\"].std(), 2)\n",
    "print(f\"평균 : {amzn_avg} , 표준편차 : {amzn_std}\")"
   ]
  },
  {
   "cell_type": "code",
   "execution_count": null,
   "metadata": {},
   "outputs": [],
   "source": [
    "df_amzn[\"변동률\"].hist()"
   ]
  },
  {
   "cell_type": "code",
   "execution_count": null,
   "metadata": {},
   "outputs": [],
   "source": [
    "googl = fdr.DataReader(\"GOOGL\", '2023-01-01',\"2023-06-01\")\n",
    "aapl = fdr.DataReader('AAPL', '2023-01-01',\"2023-06-01\")"
   ]
  },
  {
   "cell_type": "code",
   "execution_count": null,
   "metadata": {},
   "outputs": [],
   "source": [
    "df_googl = googl\n",
    "df_aapl = aapl\n",
    "df_googl[\"변동률\"] = (df_googl[\"Close\"] - df_googl[\"Open\"] / df_googl[\"Open\"]) * 100\n",
    "df_aapl[\"변동률\"] = (df_aapl[\"Close\"] - df_aapl[\"Open\"] / df_aapl[\"Open\"]) * 100\n",
    "\n",
    "df_total = pd.concat([df_amzn[\"변동률\"], df_googl[\"변동률\"], df_aapl[\"변동률\"]], axis=1)\n",
    "df_total.columns = [\"AMZN\", \"GOOGL\", \"AAPL\"]\n",
    "df_total.boxplot()"
   ]
  },
  {
   "cell_type": "code",
   "execution_count": null,
   "metadata": {},
   "outputs": [],
   "source": [
    "import seaborn as sns\n",
    "sns.heatmap(df_total.corr(), annot=True)"
   ]
  },
  {
   "cell_type": "code",
   "execution_count": null,
   "metadata": {},
   "outputs": [],
   "source": [
    "#  다음 지수의 종가를 가져와서 날짜 데이터 변환을 실행한 후\n",
    "# 선그래프를 그리시오\n",
    "# • KOSPI 지수(KS11), 2015년~현재\n",
    "# • 원달러 환율(USD/KRW), 1995년~현재\n",
    "# • 비트코인(빗썸) 원화 가격 (BTC/KRW), 2016년~현재\n",
    "\n",
    "ks11 = fdr.DataReader('KS11', '2015')\n",
    "ks11.index = pd.to_datetime(ks11.index)\n",
    "ks11\n",
    "plt.figure(figsize=(15,5))\n",
    "plt.plot(ks11.index, ks11.Close)\n",
    "plt.xticks(rotation=45)\n",
    "plt.grid(color='gray', linestyle='--')\n",
    "plt.title('KS11 (close)')\n",
    "plt.show()"
   ]
  },
  {
   "cell_type": "code",
   "execution_count": null,
   "metadata": {},
   "outputs": [],
   "source": [
    "usd = fdr.DataReader('USD/KRW', '1995')\n",
    "usd.index = pd.to_datetime(usd.index)\n",
    "usd\n",
    "# figure(figsize)\n",
    "plt.figure(figsize=(15,5))\n",
    "plt.plot(usd.index, usd.Close)\n",
    "plt.xticks(rotation=45)\n",
    "plt.grid(color='gray', linestyle='--')\n",
    "plt.title('USD/KRW (close)')\n",
    "plt.show()"
   ]
  },
  {
   "cell_type": "code",
   "execution_count": null,
   "metadata": {},
   "outputs": [],
   "source": [
    "btc = fdr.DataReader(\"BTC/KRW\", '2016')\n",
    "btc.index = pd.to_datetime(btc.index)\n",
    "\n",
    "# figure(figsize)\n",
    "plt.figure(figsize=(15,5))\n",
    "plt.plot(btc.index, btc.Close)\n",
    "plt.xticks(rotation=45)\n",
    "plt.grid(color='gray', linestyle='--')\n",
    "plt.title(\"BTC/KRW (close)\")\n",
    "plt.show()"
   ]
  },
  {
   "cell_type": "code",
   "execution_count": null,
   "metadata": {},
   "outputs": [],
   "source": [
    "plt.style.available\n",
    "plt.style.use(\"seaborn-notebook\")"
   ]
  }
 ],
 "metadata": {
  "language_info": {
   "name": "python"
  },
  "orig_nbformat": 4
 },
 "nbformat": 4,
 "nbformat_minor": 2
}
